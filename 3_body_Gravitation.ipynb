{
  "nbformat": 4,
  "nbformat_minor": 0,
  "metadata": {
    "colab": {
      "name": "3_body_Gravitation.ipynb",
      "provenance": [],
      "collapsed_sections": [],
      "include_colab_link": true
    },
    "kernelspec": {
      "name": "python3",
      "display_name": "Python 3"
    }
  },
  "cells": [
    {
      "cell_type": "markdown",
      "metadata": {
        "id": "view-in-github",
        "colab_type": "text"
      },
      "source": [
        "<a href=\"https://colab.research.google.com/github/arnav257/einsteinpy/blob/master/3_body_Gravitation.ipynb\" target=\"_parent\"><img src=\"https://colab.research.google.com/assets/colab-badge.svg\" alt=\"Open In Colab\"/></a>"
      ]
    },
    {
      "cell_type": "code",
      "metadata": {
        "id": "nJ1ja-D8IK4N",
        "colab_type": "code",
        "colab": {}
      },
      "source": [
        "import numpy as np\n",
        "from numpy import array as arr\n",
        "import scipy.linalg as la\n",
        "import math as m\n",
        "import matplotlib\n",
        "from matplotlib import pylab\n",
        "\n",
        "G = 6.67408e-11\n",
        "i=0;j=1;k=2;"
      ],
      "execution_count": 0,
      "outputs": []
    },
    {
      "cell_type": "code",
      "metadata": {
        "id": "KlJeKu3zIZBb",
        "colab_type": "code",
        "colab": {
          "base_uri": "https://localhost:8080/",
          "height": 55
        },
        "outputId": "4680b92e-067d-4571-821e-8cfd95e7ab98"
      },
      "source": [
        "#Skip to last cell.\n",
        "'''\n",
        "M_1 = 1.989e30 #Sun mass\n",
        "x_1 = 0.0 #@param\n",
        "y_1 = 0.0 #@param\n",
        "z_1 = 0.0 #@param\n",
        "vx_1 = 0 #@param\n",
        "vy_1 = 0 #@param\n",
        "vz_1 = 0 #@param\n",
        "\n",
        "M_2 = 5.972e24 #Earth mass\n",
        "x_2 = 1.47e11 #@param\n",
        "y_2 = 0.0 #@param\n",
        "z_2 = 0.0 #@param\n",
        "vx_2 = -20000.0 #@param\n",
        "vy_2 = 30300.0 #@param\n",
        "\n",
        "tspan = 35000000\n",
        "t = 0\n",
        "dt = 10 #Update parameters every 'dt' second(s)\n",
        "\n",
        "r1_x_list = [[x_1],[y_1],[z_1]]\n",
        "r_2_list = [[x_2],[y_2],[z_2]]\n",
        "r_3_list = [[x_3],[y_2],[z_3]]\n",
        "\n",
        "F12 = [0.0,0.0,0.0]\n",
        "F21 = [0.0,0.0,0.0]\n",
        "F13 = [0.0,0.0,0.0]\n",
        "F31 = [0.0,0.0,0.0]\n",
        "F23 = [0.0,0.0,0.0]\n",
        "F32 = [0.0,0.0,0.0]\n",
        "\n",
        "while t<tspan:\n",
        "    r_x = x_1 - x_2\n",
        "    r_y = y_1 - y_2\n",
        "    r = m.sqrt(r_x**2 + r_y**2)\n",
        "\n",
        "    Fx_1 = -G*M_1*M_2*r_x/(r**3)\n",
        "    Fy_1 = -G*M_1*M_2*r_y/(r**3)\n",
        "    vx_1 += Fx_1*dt/M_1\n",
        "    vy_1 += Fy_1*dt/M_1\n",
        "    x_1 += vx_1*dt\n",
        "    y_1 += vy_1*dt\n",
        "\n",
        "    Fx_2 = G*M_1*M_2*r_x/(r**3)\n",
        "    Fy_2 = G*M_1*M_2*r_y/(r**3)\n",
        "    vx_2 += Fx_2*dt/M_2\n",
        "    vy_2 += Fy_2*dt/M_2\n",
        "    x_2 += vx_2*dt\n",
        "    y_2 += vy_2*dt\n",
        "\n",
        "    t += dt\n",
        "    \n",
        "    x_1_list.append(x_1)\n",
        "    y_1_list.append(y_1)\n",
        "    \n",
        "    x_2_list.append(x_2)\n",
        "    y_2_list.append(y_2)\n",
        "    \n",
        "pylab.plot(x_1_list, y_1_list, \"-b\", linewidth = 1.2, label = \"Star\")\n",
        "pylab.plot(x_2_list, y_2_list, \"-r\", linewidth = 0.7, label = \"Planet\")\n",
        "pylab.xlabel(\"X\")\n",
        "pylab.ylabel(\"Y\")\n",
        "pylab.legend(loc='upper right')\n",
        "\n",
        "pylab.axis(\"equal\")\n",
        "pylab.show()\n",
        "'''"
      ],
      "execution_count": 56,
      "outputs": [
        {
          "output_type": "execute_result",
          "data": {
            "text/plain": [
              "'\\nM_1 = 1.989e30 #Sun mass\\nx_1 = 0.0 #@param\\ny_1 = 0.0 #@param\\nz_1 = 0.0 #@param\\nvx_1 = 0 #@param\\nvy_1 = 0 #@param\\nvz_1 = 0 #@param\\n\\nM_2 = 5.972e24 #Earth mass\\nx_2 = 1.47e11 #@param\\ny_2 = 0.0 #@param\\nz_2 = 0.0 #@param\\nvx_2 = -20000.0 #@param\\nvy_2 = 30300.0 #@param\\n\\ntspan = 35000000\\nt = 0\\ndt = 10 #Update parameters every \\'dt\\' second(s)\\n\\nr1_x_list = [[x_1],[y_1],[z_1]]\\nr_2_list = [[x_2],[y_2],[z_2]]\\nr_3_list = [[x_3],[y_2],[z_3]]\\n\\nF12 = [0.0,0.0,0.0]\\nF21 = [0.0,0.0,0.0]\\nF13 = [0.0,0.0,0.0]\\nF31 = [0.0,0.0,0.0]\\nF23 = [0.0,0.0,0.0]\\nF32 = [0.0,0.0,0.0]\\n\\nwhile t<tspan:\\n    r_x = x_1 - x_2\\n    r_y = y_1 - y_2\\n    r = m.sqrt(r_x**2 + r_y**2)\\n\\n    Fx_1 = -G*M_1*M_2*r_x/(r**3)\\n    Fy_1 = -G*M_1*M_2*r_y/(r**3)\\n    vx_1 += Fx_1*dt/M_1\\n    vy_1 += Fy_1*dt/M_1\\n    x_1 += vx_1*dt\\n    y_1 += vy_1*dt\\n\\n    Fx_2 = G*M_1*M_2*r_x/(r**3)\\n    Fy_2 = G*M_1*M_2*r_y/(r**3)\\n    vx_2 += Fx_2*dt/M_2\\n    vy_2 += Fy_2*dt/M_2\\n    x_2 += vx_2*dt\\n    y_2 += vy_2*dt\\n\\n    t += dt\\n    \\n    x_1_list.append(x_1)\\n    y_1_list.append(y_1)\\n    \\n    x_2_list.append(x_2)\\n    y_2_list.append(y_2)\\n    \\npylab.plot(x_1_list, y_1_list, \"-b\", linewidth = 1.2, label = \"Star\")\\npylab.plot(x_2_list, y_2_list, \"-r\", linewidth = 0.7, label = \"Planet\")\\npylab.xlabel(\"X\")\\npylab.ylabel(\"Y\")\\npylab.legend(loc=\\'upper right\\')\\n\\npylab.axis(\"equal\")\\npylab.show()\\n'"
            ]
          },
          "metadata": {
            "tags": []
          },
          "execution_count": 56
        }
      ]
    },
    {
      "cell_type": "code",
      "metadata": {
        "id": "rGwNk15ZRRXr",
        "colab_type": "code",
        "colab": {
          "base_uri": "https://localhost:8080/",
          "height": 290
        },
        "outputId": "d90b082a-79d9-43b5-912f-fb01f5840758"
      },
      "source": [
        "#@title Patience while running this one.\n",
        "M_1 = 1.989e30 #Sun mass\n",
        "x_1 = 0.0 #@param\n",
        "y_1 = 0.0 #@param\n",
        "r1 = arr([x_1, y_1])\n",
        "vx_1 = 0.0 #@param\n",
        "vy_1 = 0.0 #@param\n",
        "v1 = arr([vx_1, vy_1])\n",
        "\n",
        "M_2 = 5.972e24 #Earth mass\n",
        "x_2 = 1.47e11 #@param\n",
        "y_2 = 0.0 #@param\n",
        "r2 = arr([x_2, y_2])\n",
        "vx_2 = -20000.0 #@param\n",
        "vy_2 = 30300.0 #@param\n",
        "v2 = arr([vx_2, vy_2])\n",
        "\n",
        "M_3 = 5.972e24 #Earth mass\n",
        "x_3 = 5.47e10 #@param\n",
        "y_3 = 0.0 #@param\n",
        "r3 = arr([x_3, y_3])\n",
        "vx_3 = -20000.0 #@param\n",
        "vy_3 = 10300.0 #@param\n",
        "v3 = arr([vx_2, vy_2])\n",
        "\n",
        "tspan = 10000000\n",
        "t = 0\n",
        "dt = 10 #Update parameters every 'dt' second(s)\n",
        "\n",
        "r1_x_list, r1_y_list = [r1[i]],[r1[j]]\n",
        "r1_list = [r1_x_list,r1_y_list]\n",
        "r2_x_list, r2_y_list = [r2[i]],[r2[j]]\n",
        "r2_list = [r2_x_list,r2_y_list]\n",
        "r3_x_list, r3_y_list = [r3[i]],[r3[j]]\n",
        "r3_list = [r3_x_list,r3_y_list]\n",
        "\n",
        "F12 = arr([0.0,0.0])\n",
        "F21 = arr([0.0,0.0])\n",
        "F13 = arr([0.0,0.0])\n",
        "F31 = arr([0.0,0.0])\n",
        "F23 = arr([0.0,0.0])\n",
        "F32 = arr([0.0,0.0])\n",
        "\n",
        "while t<tspan:\n",
        "    \n",
        "    r12 = r1 - r2\n",
        "    modr12 = m.sqrt(r12[i]**2 + r12[j]**2)\n",
        "    \n",
        "    r13 = r1 - r3\n",
        "    modr13 = m.sqrt(r13[i]**2 + r13[j]**2)\n",
        "    \n",
        "    r23 = r2 - r3\n",
        "    modr23 = m.sqrt(r23[i]**2 + r23[j]**2)\n",
        "\n",
        "    F12 = -(G*M_1*M_2)*r12/(modr12**3)\n",
        "    F13 = -(G*M_1*M_3)*r13/(modr13**3)\n",
        "    F23 = -(G*M_2*M_3)*r23/(modr23**3)\n",
        "    \n",
        "    F21 = -F12\n",
        "    F31 = -F13\n",
        "    F32 = -F23\n",
        "    \n",
        "    v1 += (F12+F13)*dt/M_1\n",
        "    v2 += (F21+F23)*dt/M_2\n",
        "    v3 += (F31+F32)*dt/M_3\n",
        "    \n",
        "    r1 += v1*dt\n",
        "    r2 += v2*dt\n",
        "    r3 += v3*dt\n",
        "    \n",
        "    t += dt\n",
        "    \n",
        "    r1_x_list.append(r1[i])\n",
        "    r1_y_list.append(r1[j])\n",
        "    \n",
        "    r2_x_list.append(r2[i])\n",
        "    r2_y_list.append(r2[j])\n",
        "    \n",
        "    r3_x_list.append(r3[i])\n",
        "    r3_y_list.append(r3[j])\n",
        "    \n",
        "pylab.plot(r1_list[i], r1_list[j], \"-b\", linewidth = 1.2, label = \"Star\")\n",
        "pylab.plot(r2_list[i], r2_list[j], \"-r\", linewidth = 0.9, label = \"Planet\")\n",
        "pylab.plot(r3_list[i], r3_list[j], \"-y\", linewidth = 0.7, label = \"Asteroid\")\n",
        "pylab.xlabel(\"X\")\n",
        "pylab.ylabel(\"Y\")\n",
        "pylab.legend(loc='upper right')\n",
        "\n",
        "pylab.axis(\"equal\")\n",
        "pylab.show()"
      ],
      "execution_count": 61,
      "outputs": [
        {
          "output_type": "display_data",
          "data": {
            "image/png": "[encoded data removed]",
            "text/plain": [
              "<Figure size 432x288 with 1 Axes>"
            ]
          },
          "metadata": {
            "tags": []
          }
        }
      ]
    }
  ]
}